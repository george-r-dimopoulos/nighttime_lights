{
 "cells": [
  {
   "attachments": {},
   "cell_type": "markdown",
   "metadata": {},
   "source": [
    "# Effect of Economic Sanctions on Russia\n",
    "Load packages\n"
   ]
  },
  {
   "cell_type": "code",
   "execution_count": null,
   "metadata": {},
   "outputs": [],
   "source": [
    "# Load required packages\n",
    "using Shapefile\n",
    "using DataFrames\n",
    "using Rasters\n",
    "using Dates\n",
    "using Plots\n",
    "using CSV"
   ]
  },
  {
   "cell_type": "markdown",
   "metadata": {},
   "source": [
    "Load file paths"
   ]
  },
  {
   "cell_type": "code",
   "execution_count": null,
   "metadata": {},
   "outputs": [],
   "source": [
    "# Define file paths\n",
    "shapefile_path = \"/Users/Gdimo/Downloads/EconOuterspaceProject/RUSSIA_BOUNDARY/split_states.shp\"\n",
    "tiff_file_path = \"/Users/Gdimo/Downloads/EconOuterspaceProject/CrimeaSanctions/201309.tif\""
   ]
  },
  {
   "cell_type": "markdown",
   "metadata": {},
   "source": [
    "Load shapefile"
   ]
  },
  {
   "cell_type": "code",
   "execution_count": null,
   "metadata": {},
   "outputs": [
    {
     "name": "stdout",
     "output_type": "stream",
     "text": [
      "Checking if the shapefile exists...\n",
      "Shapefile exists. Proceeding to load the shapefile...\n",
      "Shapefile loaded successfully.\n",
      "First few rows of the shapefile:\n",
      "\u001b[1m5×12 DataFrame\u001b[0m\n",
      "\u001b[1m Row \u001b[0m│\u001b[1m geometry               \u001b[0m\u001b[1m GID_1    \u001b[0m\u001b[1m GID_0   \u001b[0m\u001b[1m COUNTRY \u001b[0m\u001b[1m NAME_1       \u001b[0m\u001b[1m VARNAME_1                        \u001b[0m\u001b[1m NL_NAME_1         \u001b[0m\u001b[1m TYPE_1  \u001b[0m\u001b[1m ENGTYPE_1 \u001b[0m\u001b[1m CC_1    \u001b[0m\u001b[1m HASC_1  \u001b[0m\u001b[1m ISO_1   \u001b[0m\n",
      "     │\u001b[90m Polygon                \u001b[0m\u001b[90m String?  \u001b[0m\u001b[90m String? \u001b[0m\u001b[90m String? \u001b[0m\u001b[90m String?      \u001b[0m\u001b[90m String?                          \u001b[0m\u001b[90m String?           \u001b[0m\u001b[90m String? \u001b[0m\u001b[90m String?   \u001b[0m\u001b[90m String? \u001b[0m\u001b[90m String? \u001b[0m\u001b[90m String? \u001b[0m\n",
      "─────┼──────────────────────────────────────────────────────────────────────────────────────────────────────────────────────────────────────────────────────────────────────\n",
      "   1 │ Polygon(352 Points)     RUS.35_1  RUS      Russia   Krasnoyarsk1  Krasnoyarskiy Kray|Yeniseisk|Yen  Красноярский край  Kray     Territory  6209     RU.KX    NA\n",
      "   2 │ Polygon(17 Points)      RUS.35_1  RUS      Russia   Krasnoyarsk2  Krasnoyarskiy Kray|Yeniseisk|Yen  Красноярский край  Kray     Territory  6209     RU.KX    NA\n",
      "   3 │ Polygon(194517 Points)  RUS.35_1  RUS      Russia   Krasnoyarsk3  Krasnoyarskiy Kray|Yeniseisk|Yen  Красноярский край  Kray     Territory  6209     RU.KX    NA\n",
      "   4 │ Polygon(232 Points)     RUS.35_1  RUS      Russia   Krasnoyarsk4  Krasnoyarskiy Kray|Yeniseisk|Yen  Красноярский край  Kray     Territory  6209     RU.KX    NA\n",
      "   5 │ Polygon(5946 Points)    RUS.35_1  RUS      Russia   Krasnoyarsk5  Krasnoyarskiy Kray|Yeniseisk|Yen  Красноярский край  Kray     Territory  6209     RU.KX    NA\n"
     ]
    }
   ],
   "source": [
    "# Check if shapefile exists and load it\n",
    "println(\"Checking if the shapefile exists...\")\n",
    "if isfile(shapefile_path)\n",
    "    println(\"Shapefile exists. Proceeding to load the shapefile...\")\n",
    "    shapefile_df = Shapefile.Table(shapefile_path) |> DataFrame\n",
    "    println(\"Shapefile loaded successfully.\")\n",
    "    println(\"First few rows of the shapefile:\")\n",
    "    println(first(shapefile_df, 5))\n",
    "else\n",
    "    println(\"Shapefile does not exist. Please check the file path.\")\n",
    "    error(\"Shapefile not found\")\n",
    "end"
   ]
  },
  {
   "cell_type": "markdown",
   "metadata": {},
   "source": [
    "Load tiff file"
   ]
  },
  {
   "cell_type": "code",
   "execution_count": null,
   "metadata": {},
   "outputs": [
    {
     "name": "stdout",
     "output_type": "stream",
     "text": [
      "Checking if the TIFF file exists...\n",
      "TIFF file exists. Proceeding to process the TIFF file...\n",
      "TIFF file loaded successfully.\n",
      "Raster dimensions: (28800, 18000, 1)\n",
      "Raster summary: 28800×18000×1 Raster{UInt16,3}\n"
     ]
    }
   ],
   "source": [
    "# Check if tiff file exists\n",
    "println(\"Checking if the TIFF file exists...\")\n",
    "if isfile(tiff_file_path)\n",
    "    println(\"TIFF file exists. Proceeding to process the TIFF file...\")\n",
    "    radiance_data = Raster(tiff_file_path, lazy=true)\n",
    "    println(\"TIFF file loaded successfully.\")\n",
    "    println(\"Raster dimensions: \", size(radiance_data))\n",
    "    println(\"Raster summary: \", summary(radiance_data))\n",
    "else\n",
    "    println(\"TIFF file does not exist. Please check the file path.\")\n",
    "    error(\"TIFF file not found\")\n",
    "end"
   ]
  },
  {
   "cell_type": "markdown",
   "metadata": {},
   "source": [
    "Calculate radiance for each region"
   ]
  },
  {
   "cell_type": "code",
   "execution_count": null,
   "metadata": {},
   "outputs": [],
   "source": [
    "# Check the CRS of the shapefile\n",
    "println(\"Shapefile CRS: \", shapefile_df.crs)\n",
    "\n",
    "# Check the CRS of the raster\n",
    "println(\"Raster CRS: \", radiance_data.crs)"
   ]
  }
 ],
 "metadata": {
  "kernelspec": {
   "display_name": "Julia 1.10.2",
   "language": "julia",
   "name": "julia-1.10"
  },
  "language_info": {
   "file_extension": ".jl",
   "mimetype": "application/julia",
   "name": "julia",
   "version": "1.10.2"
  },
  "orig_nbformat": 4,
  "vscode": {
   "interpreter": {
    "hash": "a1bb40820a03a4bd276b34448edf3f42a726a69f51265d345c1bc176f9ee21d7"
   }
  }
 },
 "nbformat": 4,
 "nbformat_minor": 2
}
